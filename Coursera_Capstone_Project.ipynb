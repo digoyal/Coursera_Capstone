{
 "cells": [
  {
   "cell_type": "markdown",
   "metadata": {
    "collapsed": true
   },
   "source": [
    "# Optimum location for an Indian restaurant in Toronto"
   ]
  },
  {
   "cell_type": "markdown",
   "metadata": {},
   "source": [
    "# Problem Description"
   ]
  },
  {
   "cell_type": "markdown",
   "metadata": {},
   "source": [
    "After learning about data science and how it can be used to solve real life problems, I’ve started my own company, DataMiners Inc. DataMiners has subscribed to various data sources all over the world. Using this data along with other packages like FourSquare which provides location data, our company can help clients solve various business problems. One of the common use of our expertise is to help potential business owners who want to know the optimum location to start a new business in a given geographical area like a city or a neighborhood.\n",
    "Our latest client is a father son team who would like to open an Indian restaurant in the Toronto area. They have come to us to help them with Toronto Neighborhoods, the existing restaurant scene in the city, and some suggestions for best locations for their new restaurant. They would like the restaurant to be in a place where there is sizable asian population, but it doesn’t currently have an Indian restaurant. \n"
   ]
  },
  {
   "cell_type": "markdown",
   "metadata": {},
   "source": [
    "# Target Audience"
   ]
  },
  {
   "cell_type": "markdown",
   "metadata": {},
   "source": [
    "The father and son team who wants to learn about Toronto neighborhoods and find a suitable location to open an Indian restaurant"
   ]
  },
  {
   "cell_type": "markdown",
   "metadata": {},
   "source": [
    "# Data Needed"
   ]
  },
  {
   "cell_type": "markdown",
   "metadata": {},
   "source": [
    "To solve this problem, we’ll need 3 sets of data as described below:\n",
    "* List of neighborhoods in Toronto, Canada. The list of neighborhoods is given in a Wikipedia page which we can make use of. The data that we are most interested in is in the \"Neighborhood' column. If a 'Neighborhood' name is not given, then we'll use the coressponding 'Borough' name. Example data:\n",
    "\n",
    "|PostCode    |Borough                 | Neighborhood  |\n",
    "|----------  |-----------------       | ------------- |\n",
    "| C01        |Downtown  Toronto       |   Downtown    |\n",
    "| C01        | Downtown  Toronto      |   Harbourfront|\n",
    "| C01        | Downtown  Toronto      |   Little Italy|\n",
    "\n",
    "\n",
    "* Latitude and Longitude of these neighborhoods. We’ll try to use publicly available Google APIs for this. This data would be needed to get the existing restaurants details in each neighborhood. This data can also be obtained using a CSV file as Google APIs don't work some times.\n",
    "\n",
    "\n",
    "* Various data for the venues in these neighborhoods. From this data, we’ll try to figure out  the number and location of existing restaurants, specially Indian restaurants. We’ll use FourSquare APIs to get this information. The data most useful would be 'Venue Categroy' as it describes the kind of restaurant that already exists in a neibhborhood. We'll skip neighborhoods that have \"Indian Restaurants' already, and focus on neighborhoods with restaurants from Asian countires since most asians tend to like spicy food. Example data after some formatting:\n",
    "\n",
    "|Neighborhood     |  Venue            | Longitude       | Lattitude     | Venue Category      |\n",
    "|------------     | -------------     | ------------    | -----------   | --------------------|\n",
    "| Downtown        | Sakoon            |16.78456         |14.5678        | Indian  Restaurant  |\n",
    "| Downtown        | Ho Choi           | 12.12453        | 24.4092       | Chinese Restaurant  |\n",
    "| Little Italy    | Taste of Italy    | 13.5556         | 34.4562       | Italian Restaurant  |      \n"
   ]
  }
 ],
 "metadata": {
  "kernelspec": {
   "display_name": "Python 3.6",
   "language": "python",
   "name": "python3"
  },
  "language_info": {
   "codemirror_mode": {
    "name": "ipython",
    "version": 3
   },
   "file_extension": ".py",
   "mimetype": "text/x-python",
   "name": "python",
   "nbconvert_exporter": "python",
   "pygments_lexer": "ipython3",
   "version": "3.6.8"
  }
 },
 "nbformat": 4,
 "nbformat_minor": 1
}
