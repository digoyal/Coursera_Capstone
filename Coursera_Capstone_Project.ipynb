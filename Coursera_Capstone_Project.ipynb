{
 "cells": [
  {
   "cell_type": "markdown",
   "metadata": {
    "collapsed": true
   },
   "source": [
    "# Optimum location for an Indian restaurant in Toronto"
   ]
  },
  {
   "cell_type": "markdown",
   "metadata": {},
   "source": [
    "# Problem Description"
   ]
  },
  {
   "cell_type": "markdown",
   "metadata": {},
   "source": [
    "After learning about data science and how it can be used to solve real life problems, I’ve started my own company, DataMiners Inc. DataMiners has subscribed to various data sources all over the world. Using this data along with other packages like FourSquare which provides location data, our company can help clients solve various business problems. One of the common use of our expertise is to help potential business owners who want to know the optimum location to start a new business in a given geographical area like a city or a neighborhood.\n",
    "Our latest client is a father son team who would like to open an Indian restaurant in the Toronto area. They have come to us to help them with Toronto Neighborhoods, the existing restaurant scene in the city, and some suggestions for best locations for their new restaurant. They would like the restaurant to be in a place where there is sizable asian population, but it doesn’t currently have an Indian restaurant. \n"
   ]
  },
  {
   "cell_type": "markdown",
   "metadata": {},
   "source": [
    "# Data Needed"
   ]
  },
  {
   "cell_type": "markdown",
   "metadata": {},
   "source": [
    "To solve this problem, we’ll need 3 sets of data as described below:\n",
    "* List of neighborhoods in Toronto, Canada. The list of neighborhoods is given in a Wikipedia page which we can make use of.\n",
    "* Latitude and Longitude of these neighborhoods. We’ll try to use publicly available Google APIs for this. This data would be needed to get the existing restaurants details in each neighborhood.\n",
    "* Various data for the venues in these neighborhoods. From this data, we’ll try to figure out  the number and location of existing restaurants, specially Indian restaurants. We’ll use FourSquare APIs to get this information.\n"
   ]
  },
  {
   "cell_type": "code",
   "execution_count": null,
   "metadata": {},
   "outputs": [],
   "source": []
  }
 ],
 "metadata": {
  "kernelspec": {
   "display_name": "Python 3.6",
   "language": "python",
   "name": "python3"
  },
  "language_info": {
   "codemirror_mode": {
    "name": "ipython",
    "version": 3
   },
   "file_extension": ".py",
   "mimetype": "text/x-python",
   "name": "python",
   "nbconvert_exporter": "python",
   "pygments_lexer": "ipython3",
   "version": "3.6.8"
  }
 },
 "nbformat": 4,
 "nbformat_minor": 1
}
